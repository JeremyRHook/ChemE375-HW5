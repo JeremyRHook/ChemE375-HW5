{
 "cells": [
  {
   "cell_type": "markdown",
   "metadata": {},
   "source": [
    "# HW5: Conditionals and Functions"
   ]
  },
  {
   "cell_type": "markdown",
   "metadata": {},
   "source": [
    "### Problem 1\n",
    "**(a)** x is given below. Write an if statement that will print whether x is positive, negative, or zero.\n",
    "   \n",
    "x=-10"
   ]
  },
  {
   "cell_type": "code",
   "execution_count": 604,
   "metadata": {},
   "outputs": [
    {
     "name": "stdout",
     "output_type": "stream",
     "text": [
      "Negative number\n"
     ]
    }
   ],
   "source": [
    "x=-10\n",
    "if x > 0:\n",
    " print(\"Positive number\")\n",
    "elif x == 0:\n",
    "   print(\"Zero\")\n",
    "elif x < 0:\n",
    "   print(\"Negative number\")"
   ]
  },
  {
   "cell_type": "code",
   "execution_count": null,
   "metadata": {},
   "outputs": [],
   "source": []
  },
  {
   "cell_type": "code",
   "execution_count": null,
   "metadata": {},
   "outputs": [],
   "source": []
  },
  {
   "cell_type": "markdown",
   "metadata": {},
   "source": [
    "**(b)** x and y are given below. Write an if statement that will print whether x and y are both positive, or both negative, or if one or both are zero.\n",
    "\n",
    "x=-4\n",
    "y=3.2"
   ]
  },
  {
   "cell_type": "code",
   "execution_count": 603,
   "metadata": {},
   "outputs": [
    {
     "name": "stdout",
     "output_type": "stream",
     "text": [
      "y is positive\n",
      "x is negative\n"
     ]
    }
   ],
   "source": [
    "x= -4\n",
    "y=3.2\n",
    "\n",
    "if x > 0 and y > 0 :\n",
    "  print (\" Both Positive number\")\n",
    "elif x > 0:\n",
    " print(\"x is positive\")\n",
    "elif y > 0:\n",
    " print(\"y is positive\")\n",
    "if x == 0 and y == 0:\n",
    "   print(\"Both Zero\")\n",
    "elif x== 0:\n",
    " print(\"x=0\")\n",
    "elif y == 0:\n",
    " print(\"y=0\")\n",
    "if x < 0 and  y< 0 :\n",
    "   print(\" Both Negative number\")\n",
    "elif y< 0 :\n",
    "   print(\"y is Negative\")\n",
    "elif x < 0:\n",
    " print(\"x is negative\")"
   ]
  },
  {
   "cell_type": "code",
   "execution_count": null,
   "metadata": {},
   "outputs": [],
   "source": []
  },
  {
   "cell_type": "code",
   "execution_count": null,
   "metadata": {},
   "outputs": [],
   "source": []
  },
  {
   "cell_type": "markdown",
   "metadata": {},
   "source": [
    "**(c)** Write a single line (condensed) if statement that will evaluate y = 1/x if x is not zero. If x is 0, then y=0. Print y."
   ]
  },
  {
   "cell_type": "code",
   "execution_count": 591,
   "metadata": {},
   "outputs": [
    {
     "name": "stdout",
     "output_type": "stream",
     "text": [
      "0\n"
     ]
    }
   ],
   "source": [
    "x = 0\n",
    "if x == 0:\n",
    " y= 0\n",
    "else: y= 1/x\n",
    "print(y)          "
   ]
  },
  {
   "cell_type": "code",
   "execution_count": null,
   "metadata": {},
   "outputs": [],
   "source": []
  },
  {
   "cell_type": "code",
   "execution_count": null,
   "metadata": {},
   "outputs": [],
   "source": []
  },
  {
   "cell_type": "code",
   "execution_count": null,
   "metadata": {},
   "outputs": [],
   "source": []
  },
  {
   "cell_type": "markdown",
   "metadata": {},
   "source": [
    "**(d)** The ideal gas law is an approximation, but it is only a good approximation under certain circumstances. The general rule of thumb is: when the specifc volume is greater than 5 L/mol for diatomic gases and 20 L/mol for all other gases. (Specific volume: $\\hat{V} = \\frac{V}{n}$ )\n",
    "$$\\hat{V}=\\frac{RT}{P} > 5 L/mol $$\n",
    "$$ .......                >20 L/mol$$\n",
    "Write an if statement that will print the specific volume of O2, and state whether or not the ideal gas law is a good approximation.\n",
    "\n",
    "T = 600 K\n",
    "\n",
    "P = 15 atm\n",
    "\n",
    "R = .08206 L*Atm/(mol K)\n"
   ]
  },
  {
   "cell_type": "code",
   "execution_count": 593,
   "metadata": {},
   "outputs": [
    {
     "name": "stdout",
     "output_type": "stream",
     "text": [
      "Specific Volume of O2\n",
      "3.2824 L/mol\n",
      "Ideal gas law is not a good approximation\n"
     ]
    }
   ],
   "source": [
    "T = 600 \n",
    "P = 15\n",
    "R = .08206 \n",
    "V= R*T/P\n",
    "print(\"Specific Volume of O2\")\n",
    "print(V, \"L/mol\")\n",
    "if  V >5 and V<20:\n",
    " print(\"ideal Gas law is a good approximation\")\n",
    "elif V < 5 or V>20:\n",
    " print (\"Ideal gas law is not a good approximation\")"
   ]
  },
  {
   "cell_type": "code",
   "execution_count": null,
   "metadata": {},
   "outputs": [],
   "source": []
  },
  {
   "cell_type": "code",
   "execution_count": null,
   "metadata": {},
   "outputs": [],
   "source": []
  },
  {
   "cell_type": "code",
   "execution_count": null,
   "metadata": {},
   "outputs": [],
   "source": []
  },
  {
   "cell_type": "code",
   "execution_count": 569,
   "metadata": {},
   "outputs": [],
   "source": [
    "### Problem 2\n",
    "\n",
    "#**(a)** Write a function called \"sum\" that takes two numbers and returns the sum of them.\n",
    "\n",
    "#**(b)** Write a function called \"quad\" that takes three numbers $a$, $b$, and $c$ as function arguments that are the coefficients of the quadratic formula $ax^2+bx+c=0$, and returns the two roots. Test your function on $a=1,\\,b=-1,\\, c=-2$. You should get roots of 2 and -1.\n",
    "\n",
    "#**(c)** Functions are a convenient way to convert units. Write a function that converts \n",
    "\n",
    "#1. Celsius for Farhenheit\n",
    "#2. Farheneit to Celsius\n",
    "#3. Liters to Gallons\n",
    "#4. kg/h to lbm/s\n",
    "#5. Joules per hour to hp\n",
    " "
   ]
  },
  {
   "cell_type": "code",
   "execution_count": 597,
   "metadata": {},
   "outputs": [
    {
     "name": "stdout",
     "output_type": "stream",
     "text": [
      "2\n"
     ]
    }
   ],
   "source": [
    "x = 1 #any number\n",
    "y = 1 #any number\n",
    "def sum():\n",
    " total = (x+y)\n",
    " print(total)\n",
    "sum()"
   ]
  },
  {
   "cell_type": "code",
   "execution_count": 601,
   "metadata": {},
   "outputs": [
    {
     "name": "stdout",
     "output_type": "stream",
     "text": [
      "quadradic formula x =\n",
      "[2.0, -1.0]\n"
     ]
    }
   ],
   "source": [
    "a= 1\n",
    "b= -1\n",
    "c= -2\n",
    "# ax^2 + bx + c = 0\n",
    "#(-b + ((b^2-4*a*c)^(1/2))/(2*a)\n",
    "def quad():\n",
    " x = [((-b + (((b*b)-(4*a*c))**.5))/(2*a)), ((-b - (((b**2)-(4*a*c))**(1/2)))/(2*a))]\n",
    " print (\"quadradic formula x =\")\n",
    " print (x)\n",
    "quad()"
   ]
  },
  {
   "cell_type": "markdown",
   "metadata": {},
   "source": [
    "### Problem 3\n",
    "You are trying to decide which car to buy between a hybrid and non-hybrid. Hybrid cars often have a higher initial cost, but have lower fuel costs. \n",
    "\n",
    "Hybrid Car - \\$25,000 and gets 33 MPG\n",
    "\n",
    "Non-Hybrid Car - \\$15,000 and gets 19 MPG\n",
    "\n",
    "You plan on keeping the car for five years, and after 5 years cars depreciate by 75%. You drive about 200 miles per week. Create a program that will print which car is the smarter economical decision, and the total cost (fuel cost + depreciation of car value). Also print how much money you would be saving for this car compared to the other car.  Assume the cost of gas is \\$2.20/gallon."
   ]
  },
  {
   "cell_type": "code",
   "execution_count": 602,
   "metadata": {},
   "outputs": [
    {
     "name": "stdout",
     "output_type": "stream",
     "text": [
      "Gas cost Hybrid $ 3466.666666666667\n",
      "Gas cost Non-Hybrid $ 6021.0526315789475\n",
      "depreciation Hybrid $ 18750.0\n",
      "depreciation Non-Hybrid $ 11250.0\n",
      "Total Hybrid Cost $ 22216.666666666668\n",
      "Total Non-Hybrid Cost $ 17271.052631578947\n",
      "Non-hybrid Is most economical $ 4945.614035087721\n"
     ]
    }
   ],
   "source": [
    "Total_miles == 200*52*5 #driven miles in 5 years\n",
    "\n",
    "gallons_hybrid = (Total_miles/33) \n",
    "gallons_car == (Total_miles/19) \n",
    "gas_cost_hybrid = (gallons_hybrid * 2.2)\n",
    "gas_cost_car = (gallons_car * 2.2)\n",
    "print (\"Gas cost Hybrid\",\"$\",gas_cost_hybrid)\n",
    "print (\"Gas cost Non-Hybrid\",\"$\", gas_cost_car)\n",
    "\n",
    "hybrid_depreciation = 25000*.75\n",
    "car_depreciation = 15000* .75\n",
    "print (\"depreciation Hybrid\",\"$\",hybrid_depreciation)\n",
    "print (\"depreciation Non-Hybrid\",\"$\", car_depreciation)\n",
    "\n",
    "hybrid_total_cost == (gas_cost_hybrid + hybrid_depreciation)\n",
    "car_total_cost = (gas_cost_car + car_depreciation)\n",
    "print (\"Total Hybrid Cost\",\"$\",hybrid_total_cost)\n",
    "print (\"Total Non-Hybrid Cost\",\"$\", car_total_cost)\n",
    "\n",
    "if hybrid_total_cost > car_total_cost:\n",
    " Savings = (hybrid_total_cost - car_total_cost)\n",
    " print (\"Non-hybrid Is most economical\",\"$\", Savings)\n",
    "elif hybrid_total_cost < car_total_cost:\n",
    " Savings = (-hybrid_total_cost + car_total_cost)\n",
    " print (\"Hybrid is the most economical\",\"$\", Savings)"
   ]
  },
  {
   "cell_type": "code",
   "execution_count": null,
   "metadata": {},
   "outputs": [],
   "source": []
  },
  {
   "cell_type": "code",
   "execution_count": null,
   "metadata": {},
   "outputs": [],
   "source": []
  },
  {
   "cell_type": "code",
   "execution_count": null,
   "metadata": {},
   "outputs": [],
   "source": []
  },
  {
   "cell_type": "code",
   "execution_count": null,
   "metadata": {},
   "outputs": [],
   "source": []
  },
  {
   "cell_type": "code",
   "execution_count": null,
   "metadata": {},
   "outputs": [],
   "source": []
  },
  {
   "cell_type": "code",
   "execution_count": null,
   "metadata": {},
   "outputs": [],
   "source": []
  },
  {
   "cell_type": "code",
   "execution_count": null,
   "metadata": {},
   "outputs": [],
   "source": []
  }
 ],
 "metadata": {
  "kernelspec": {
   "display_name": "Python 3",
   "language": "python",
   "name": "python3"
  },
  "language_info": {
   "codemirror_mode": {
    "name": "ipython",
    "version": 3
   },
   "file_extension": ".py",
   "mimetype": "text/x-python",
   "name": "python",
   "nbconvert_exporter": "python",
   "pygments_lexer": "ipython3",
   "version": "3.7.4"
  }
 },
 "nbformat": 4,
 "nbformat_minor": 4
}