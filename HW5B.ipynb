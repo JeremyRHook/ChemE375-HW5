{
 "cells": [
  {
   "cell_type": "markdown",
   "metadata": {},
   "source": [
    "# HW8: Arrays and Loops"
   ]
  },
  {
   "cell_type": "markdown",
   "metadata": {},
   "source": [
    "## Problem 1"
   ]
  },
  {
   "cell_type": "markdown",
   "metadata": {},
   "source": [
    "Import Numpy \n",
    "\n",
    "a) Create an array of 50 ones called $x$."
   ]
  },
  {
   "cell_type": "code",
   "execution_count": 289,
   "metadata": {},
   "outputs": [
    {
     "data": {
      "text/plain": [
       "array([1., 1., 1., 1., 1., 1., 1., 1., 1., 1., 1., 1., 1., 1., 1., 1., 1.,\n",
       "       1., 1., 1., 1., 1., 1., 1., 1., 1., 1., 1., 1., 1., 1., 1., 1., 1.,\n",
       "       1., 1., 1., 1., 1., 1., 1., 1., 1., 1., 1., 1., 1., 1., 1., 1.])"
      ]
     },
     "execution_count": 289,
     "metadata": {},
     "output_type": "execute_result"
    }
   ],
   "source": [
    "import numpy as np\n",
    "x = np.ones((50))\n",
    "x"
   ]
  },
  {
   "cell_type": "code",
   "execution_count": null,
   "metadata": {},
   "outputs": [],
   "source": []
  },
  {
   "cell_type": "code",
   "execution_count": null,
   "metadata": {},
   "outputs": [],
   "source": []
  },
  {
   "cell_type": "markdown",
   "metadata": {},
   "source": [
    "b) Create an array from 1-20 with 50 equally-spaced elements two different ways (using a loop and a single command). Call the two arrays $y$ and $z$."
   ]
  },
  {
   "cell_type": "code",
   "execution_count": 454,
   "metadata": {},
   "outputs": [
    {
     "name": "stdout",
     "output_type": "stream",
     "text": [
      "[[ 1.          1.3877551   1.7755102   2.16326531  2.55102041]\n",
      " [ 2.93877551  3.32653061  3.71428571  4.10204082  4.48979592]\n",
      " [ 4.87755102  5.26530612  5.65306122  6.04081633  6.42857143]\n",
      " [ 6.81632653  7.20408163  7.59183673  7.97959184  8.36734694]\n",
      " [ 8.75510204  9.14285714  9.53061224  9.91836735 10.30612245]\n",
      " [10.69387755 11.08163265 11.46938776 11.85714286 12.24489796]\n",
      " [12.63265306 13.02040816 13.40816327 13.79591837 14.18367347]\n",
      " [14.57142857 14.95918367 15.34693878 15.73469388 16.12244898]\n",
      " [16.51020408 16.89795918 17.28571429 17.67346939 18.06122449]\n",
      " [18.44897959 18.83673469 19.2244898  19.6122449  20.        ]]\n"
     ]
    }
   ],
   "source": [
    "y = np.linspace(1, 20, 50)\n",
    "newy = y.reshape(10,5)\n",
    "print(newy)"
   ]
  },
  {
   "cell_type": "code",
   "execution_count": null,
   "metadata": {},
   "outputs": [],
   "source": []
  },
  {
   "cell_type": "code",
   "execution_count": 444,
   "metadata": {},
   "outputs": [
    {
     "name": "stdout",
     "output_type": "stream",
     "text": [
      "[[ 1.          1.3877551   1.7755102   2.16326531  2.55102041]\n",
      " [ 2.93877551  3.32653061  3.71428571  4.10204082  4.48979592]\n",
      " [ 4.87755102  5.26530612  5.65306122  6.04081633  6.42857143]\n",
      " [ 6.81632653  7.20408163  7.59183673  7.97959184  8.36734694]\n",
      " [ 8.75510204  9.14285714  9.53061224  9.91836735 10.30612245]\n",
      " [10.69387755 11.08163265 11.46938776 11.85714286 12.24489796]\n",
      " [12.63265306 13.02040816 13.40816327 13.79591837 14.18367347]\n",
      " [14.57142857 14.95918367 15.34693878 15.73469388 16.12244898]\n",
      " [16.51020408 16.89795918 17.28571429 17.67346939 18.06122449]\n",
      " [18.44897959 18.83673469 19.2244898  19.6122449  20.        ]]\n"
     ]
    }
   ],
   "source": [
    "z = np.array([(1+i*(19/49)) for i in range(0,50)])\n",
    "newz = z.reshape(10, 5) \n",
    "print(newz)"
   ]
  },
  {
   "cell_type": "markdown",
   "metadata": {},
   "source": [
    "c) Subtract $y$ from $z$ and report the sum of the absolute difference of each element to show that they are the same."
   ]
  },
  {
   "cell_type": "code",
   "execution_count": 451,
   "metadata": {},
   "outputs": [
    {
     "name": "stdout",
     "output_type": "stream",
     "text": [
      "[0. 0. 0. 0. 0. 0. 0. 0. 0. 0. 0. 0. 0. 0. 0. 0. 0. 0. 0. 0. 0. 0. 0. 0.\n",
      " 0. 0. 0. 0. 0. 0. 0. 0. 0. 0. 0. 0. 0. 0. 0. 0. 0. 0. 0. 0. 0. 0. 0. 0.\n",
      " 0. 0.]\n"
     ]
    }
   ],
   "source": [
    "k = y - z\n",
    "print(k)"
   ]
  },
  {
   "cell_type": "code",
   "execution_count": 458,
   "metadata": {},
   "outputs": [
    {
     "name": "stdout",
     "output_type": "stream",
     "text": [
      "difference =  0.0\n"
     ]
    }
   ],
   "source": [
    "print(\"difference = \",(sum(k)))"
   ]
  },
  {
   "cell_type": "code",
   "execution_count": null,
   "metadata": {},
   "outputs": [],
   "source": []
  },
  {
   "cell_type": "markdown",
   "metadata": {},
   "source": [
    "## Problem 2"
   ]
  },
  {
   "cell_type": "markdown",
   "metadata": {},
   "source": [
    "import the python package \"random\"\n",
    "\n",
    "a) Create a matrix, $M$, as a 1x1 numpy array of value 1"
   ]
  },
  {
   "cell_type": "code",
   "execution_count": 459,
   "metadata": {},
   "outputs": [],
   "source": [
    "M = np.ones(1)"
   ]
  },
  {
   "cell_type": "code",
   "execution_count": 461,
   "metadata": {},
   "outputs": [
    {
     "name": "stdout",
     "output_type": "stream",
     "text": [
      "[1.]\n"
     ]
    }
   ],
   "source": [
    "print(M)"
   ]
  },
  {
   "cell_type": "code",
   "execution_count": null,
   "metadata": {},
   "outputs": [],
   "source": []
  },
  {
   "cell_type": "markdown",
   "metadata": {},
   "source": [
    "b) Using a while loop, append a random integer between 1 and 10 to the end of matrix $M$ until the last element is a 7."
   ]
  },
  {
   "cell_type": "code",
   "execution_count": 474,
   "metadata": {},
   "outputs": [
    {
     "name": "stdout",
     "output_type": "stream",
     "text": [
      "[1. 5. 8. 2. 9. 1. 2. 3. 3. 4. 7.]\n"
     ]
    }
   ],
   "source": [
    "M = np.ones(1)\n",
    "x= 1\n",
    "while x!= 7:\n",
    "    x= random.randrange(1,10)\n",
    "    M= np.append(M,x)\n",
    "    \n",
    "print(M)\n",
    "\n"
   ]
  },
  {
   "cell_type": "markdown",
   "metadata": {},
   "source": [
    "c) Report the number of elements in $M$ and the mean value of the elements after the loop."
   ]
  },
  {
   "cell_type": "code",
   "execution_count": 479,
   "metadata": {},
   "outputs": [
    {
     "name": "stdout",
     "output_type": "stream",
     "text": [
      "number of elements 13\n",
      "mean value after loop 3.4615384615384617\n"
     ]
    }
   ],
   "source": [
    "print(\"number of elements\",np.size(M))\n",
    "print(\"mean value after loop\",np.mean(M))"
   ]
  },
  {
   "cell_type": "code",
   "execution_count": null,
   "metadata": {},
   "outputs": [],
   "source": []
  },
  {
   "cell_type": "code",
   "execution_count": null,
   "metadata": {},
   "outputs": [],
   "source": []
  },
  {
   "cell_type": "markdown",
   "metadata": {},
   "source": [
    "d) Also, because a while loop is easily susceptible to infinite loops, create a variable $i$ to keep track of how many times you have gone through the while loop. If $i$ exceeds 30, immediately exit the while loop. Don't report the matrix size using $i$.\n",
    "\n",
    "You may need to search online (e.g. Google) how to create a random integer using the random package and how to append elements to a numpy array. "
   ]
  },
  {
   "cell_type": "code",
   "execution_count": null,
   "metadata": {},
   "outputs": [],
   "source": []
  },
  {
   "cell_type": "code",
   "execution_count": 480,
   "metadata": {},
   "outputs": [
    {
     "name": "stdout",
     "output_type": "stream",
     "text": [
      "M= [1. 8. 4. 9. 9. 7.]\n",
      "i= 5\n",
      "number of elements 6\n",
      "mean value after loop 6.333333333333333\n"
     ]
    }
   ],
   "source": [
    "M = np.ones(1)\n",
    "x= 1\n",
    "i= 0\n",
    "while x!= 7:\n",
    "    i= i+1\n",
    "    x= random.randrange(1,10)\n",
    "    M= np.append(M,x)\n",
    "    if i == 30:\n",
    "        print(\"Loop ended after 30 iterations\")\n",
    "        break  \n",
    "print(\"M=\",M)\n",
    "print(\"i=\",i)\n",
    "print(\"number of elements\",np.size(M))\n",
    "\n",
    "print(\"mean value after loop\",np.mean(M))"
   ]
  },
  {
   "cell_type": "code",
   "execution_count": null,
   "metadata": {},
   "outputs": [],
   "source": []
  },
  {
   "cell_type": "markdown",
   "metadata": {},
   "source": [
    "## Problem 3"
   ]
  },
  {
   "cell_type": "markdown",
   "metadata": {},
   "source": [
    "Using the following array, $a$:\n",
    "\n",
    "Reshape the array to a 5x5 matrix (using a numpy command)\n",
    "\n",
    "Loop through each element of the array. If the element value is 5 or 8, print the element index. Also, keep track of how many 5s and 8s there are with variable $k$. Print $k$. If the element value is a 1, print \"You win!\""
   ]
  },
  {
   "cell_type": "code",
   "execution_count": 481,
   "metadata": {},
   "outputs": [],
   "source": [
    "a = np.array([  8.,3.,10.,8.,2.,2.,10.,10.,5.,10.,2.,10.,9.,10.,9.,4.,2.,8.,7.,4.,1.,4.,5.,6.,6.])"
   ]
  },
  {
   "cell_type": "code",
   "execution_count": 482,
   "metadata": {},
   "outputs": [
    {
     "name": "stdout",
     "output_type": "stream",
     "text": [
      "[[ 8.  3. 10.  8.  2.]\n",
      " [ 2. 10. 10.  5. 10.]\n",
      " [ 2. 10.  9. 10.  9.]\n",
      " [ 4.  2.  8.  7.  4.]\n",
      " [ 1.  4.  5.  6.  6.]]\n"
     ]
    }
   ],
   "source": [
    "newa = a.reshape(5, 5) \n",
    "print(newa)"
   ]
  },
  {
   "cell_type": "code",
   "execution_count": null,
   "metadata": {},
   "outputs": [],
   "source": []
  },
  {
   "cell_type": "code",
   "execution_count": 483,
   "metadata": {},
   "outputs": [
    {
     "name": "stdout",
     "output_type": "stream",
     "text": [
      "[[ 8.  3. 10.  8.  2.]\n",
      " [ 2. 10. 10.  5. 10.]\n",
      " [ 2. 10.  9. 10.  9.]\n",
      " [ 4.  2.  8.  7.  4.]\n",
      " [ 1.  4.  5.  6.  6.]]\n",
      "Element value 8 at position  [ 0 , 0 ]\n",
      "Element value 8 at position  [ 0 , 3 ]\n",
      "Element value 5 at position [ 1 , 3 ]\n",
      "Element value 8 at position  [ 3 , 2 ]\n",
      "Element value 1 at [ 4 , 0 ] You Win!\n",
      "Element value 5 at position [ 4 , 2 ]\n",
      "Number of 5's & 8's in Array = 5\n"
     ]
    }
   ],
   "source": [
    "print(newa)\n",
    "rc=np.shape(newa)\n",
    "row=rc[0]\n",
    "colum=rc[1]\n",
    "\n",
    "k=0\n",
    "\n",
    "for i in range(0,row):\n",
    "    for j in range(0,colum):\n",
    "        if newa[i,j] == 5:\n",
    "            k= k+1\n",
    "            print(\"Element value 5 at position [\",i,\",\",j,\"]\")\n",
    "        elif newa[i,j] == 8:\n",
    "            k= k+1\n",
    "            print(\"Element value 8 at position  [\",i,\",\",j,\"]\")\n",
    "        elif newa[i,j] == 1:\n",
    "            print(\"Element value 1 at [\",i,\",\",j,\"] You Win!\")\n",
    "            \n",
    "print(\"Number of 5's & 8's in Array =\",k)"
   ]
  },
  {
   "cell_type": "markdown",
   "metadata": {},
   "source": [
    "## Problem 4"
   ]
  },
  {
   "cell_type": "markdown",
   "metadata": {},
   "source": [
    "For the following arrays (matrices and vectors):\n",
    "\n",
    "A = \\begin{bmatrix}\n",
    "1 & 2 & 3\\\\ \n",
    "4 & 5 & 6\\\\ \n",
    "7 & 8 & 9\n",
    "\\end{bmatrix}\n",
    "\n",
    "x = \\begin{bmatrix}\n",
    "1\\\\ \n",
    "3\\\\ \n",
    "4\n",
    "\\end{bmatrix}\n",
    "\n",
    "B = \\begin{bmatrix}\n",
    "-0.1 & -0.2 & -0.3\\\\ \n",
    "3 & 10 & 2\\\\ \n",
    "4 & 2 & 0.5\n",
    "\\end{bmatrix} \n",
    "\n",
    "Perform the following operations:\n",
    "\n",
    "a) $A \\circ B$ (element-wise multiplication)"
   ]
  },
  {
   "cell_type": "code",
   "execution_count": 484,
   "metadata": {},
   "outputs": [
    {
     "name": "stdout",
     "output_type": "stream",
     "text": [
      "[[-0.1 -0.4 -0.9]\n",
      " [12.  50.  12. ]\n",
      " [28.  16.   4.5]]\n"
     ]
    }
   ],
   "source": [
    "A = [[1,2,3],\n",
    "    [4,5,6],\n",
    "    [7,8,9]]\n",
    "B = [[-.1,-.2,-.3],\n",
    "    [3,10,2],\n",
    "    [4,2,.5]]\n",
    "x = [[1],[3],[4]]\n",
    "\n",
    "print(np.multiply(A, B))\n"
   ]
  },
  {
   "cell_type": "code",
   "execution_count": null,
   "metadata": {},
   "outputs": [],
   "source": [
    "\n"
   ]
  },
  {
   "cell_type": "code",
   "execution_count": null,
   "metadata": {},
   "outputs": [],
   "source": []
  },
  {
   "cell_type": "markdown",
   "metadata": {},
   "source": [
    "b) $A \\bullet B$ (dot product multiplication)"
   ]
  },
  {
   "cell_type": "code",
   "execution_count": 485,
   "metadata": {},
   "outputs": [
    {
     "name": "stdout",
     "output_type": "stream",
     "text": [
      "[[17.9 25.8  5.2]\n",
      " [38.6 61.2 11.8]\n",
      " [59.3 96.6 18.4]]\n"
     ]
    }
   ],
   "source": [
    "print(np.dot(A,B))"
   ]
  },
  {
   "cell_type": "code",
   "execution_count": null,
   "metadata": {},
   "outputs": [],
   "source": []
  },
  {
   "cell_type": "code",
   "execution_count": null,
   "metadata": {},
   "outputs": [],
   "source": []
  },
  {
   "cell_type": "markdown",
   "metadata": {},
   "source": [
    "c) $A \\times B$ (cross product multiplication)"
   ]
  },
  {
   "cell_type": "code",
   "execution_count": 486,
   "metadata": {},
   "outputs": [
    {
     "name": "stdout",
     "output_type": "stream",
     "text": [
      "[[ 1.11022302e-16 -5.55111512e-17  0.00000000e+00]\n",
      " [-5.00000000e+01  1.00000000e+01  2.50000000e+01]\n",
      " [-1.40000000e+01  3.25000000e+01 -1.80000000e+01]]\n"
     ]
    }
   ],
   "source": [
    "print(np.cross(A,B))"
   ]
  },
  {
   "cell_type": "code",
   "execution_count": null,
   "metadata": {},
   "outputs": [],
   "source": []
  },
  {
   "cell_type": "code",
   "execution_count": null,
   "metadata": {},
   "outputs": [],
   "source": []
  },
  {
   "cell_type": "markdown",
   "metadata": {},
   "source": [
    "d) $A \\bullet x$"
   ]
  },
  {
   "cell_type": "code",
   "execution_count": 487,
   "metadata": {},
   "outputs": [
    {
     "name": "stdout",
     "output_type": "stream",
     "text": [
      "[[19]\n",
      " [43]\n",
      " [67]]\n"
     ]
    }
   ],
   "source": [
    "print(np.dot(A,x))"
   ]
  },
  {
   "cell_type": "code",
   "execution_count": null,
   "metadata": {},
   "outputs": [],
   "source": []
  },
  {
   "cell_type": "code",
   "execution_count": null,
   "metadata": {},
   "outputs": [],
   "source": []
  },
  {
   "cell_type": "markdown",
   "metadata": {},
   "source": [
    "e) $A^{-1} \\bullet B$"
   ]
  },
  {
   "cell_type": "code",
   "execution_count": 488,
   "metadata": {},
   "outputs": [
    {
     "name": "stdout",
     "output_type": "stream",
     "text": [
      "[[-6.62029145e+15 -5.73758593e+16 -1.19795750e+16]\n",
      " [ 1.32405829e+16  1.14751719e+17  2.39591500e+16]\n",
      " [-6.62029145e+15 -5.73758593e+16 -1.19795750e+16]]\n"
     ]
    }
   ],
   "source": [
    "print(np.dot(inv(A),B))"
   ]
  },
  {
   "cell_type": "code",
   "execution_count": null,
   "metadata": {},
   "outputs": [],
   "source": []
  },
  {
   "cell_type": "code",
   "execution_count": null,
   "metadata": {},
   "outputs": [],
   "source": []
  },
  {
   "cell_type": "code",
   "execution_count": null,
   "metadata": {},
   "outputs": [],
   "source": []
  },
  {
   "cell_type": "code",
   "execution_count": null,
   "metadata": {},
   "outputs": [],
   "source": []
  }
 ],
 "metadata": {
  "kernelspec": {
   "display_name": "Python 3",
   "language": "python",
   "name": "python3"
  },
  "language_info": {
   "codemirror_mode": {
    "name": "ipython",
    "version": 3
   },
   "file_extension": ".py",
   "mimetype": "text/x-python",
   "name": "python",
   "nbconvert_exporter": "python",
   "pygments_lexer": "ipython3",
   "version": "3.7.4"
  }
 },
 "nbformat": 4,
 "nbformat_minor": 4
}